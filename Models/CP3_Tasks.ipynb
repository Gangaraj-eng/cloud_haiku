{
 "cells": [
  {
   "cell_type": "markdown",
   "metadata": {},
   "source": [
    "# <font size=6 color='green'><center>**IT 496 - Introduction to Data Mining**</center></font>\n",
    "### **<center>Course Project - 03<br/><br/>ICC Cricket World Cup 2023 ML Challange<center>**\n",
    "\n",
    " &emsp; **Group Name : <font color='#0099ff'>DataForce</font>** <br/>\n",
    " &emsp; **Group ID : <font color='#0099ff'>T06</font>**"
   ]
  },
  {
   "cell_type": "code",
   "execution_count": 1,
   "metadata": {},
   "outputs": [],
   "source": [
    "# importing required libraries\n",
    "import numpy as np\n",
    "import pandas as pd"
   ]
  },
  {
   "cell_type": "markdown",
   "metadata": {},
   "source": [
    "### <center>Task 1</center>"
   ]
  },
  {
   "cell_type": "markdown",
   "metadata": {},
   "source": [
    "**Problems**\n",
    "1. Predicting the batsman who will score most runs/ hit most sixes/ make most centuries in\n",
    "the tournament.\n",
    "2. Predicting the batsman who will score most runs/ hit most sixes/ make most centuries in\n",
    "the tournament."
   ]
  },
  {
   "cell_type": "markdown",
   "metadata": {},
   "source": [
    "---"
   ]
  },
  {
   "cell_type": "markdown",
   "metadata": {},
   "source": [
    "### <center>Task 2</center>\n",
    "You are required to predict the two finalist teams in the ICC Cricket World Cup 2023 and the\n",
    "players (11 players for each finalist team) who are likely to be part of these teams. This task\n",
    "involves team composition prediction."
   ]
  },
  {
   "cell_type": "code",
   "execution_count": 2,
   "metadata": {},
   "outputs": [],
   "source": [
    "from teamCompositionPredictor import getTeamCompsition\n",
    "from tensorflow import keras\n",
    "from Helpers import getTeamsMapping,getVenuesMapping, getPlayerRole, getTeamStats"
   ]
  },
  {
   "cell_type": "code",
   "execution_count": 3,
   "metadata": {},
   "outputs": [],
   "source": [
    "def getMatchWinnerPredictor():\n",
    "  # loading the pre-trained model\n",
    "  model = keras.models.load_model('MatchWinnerPredictor.keras')\n",
    "  return model"
   ]
  },
  {
   "cell_type": "code",
   "execution_count": 4,
   "metadata": {},
   "outputs": [],
   "source": [
    "additional_cols1 = ['team1 avg score','team1 avg wickets','team1 avg catches','team1 avg fours',\n",
    "                   'team1 avg sixes','team1 odi rank']\n",
    "additional_cols2 = ['team2 avg score','team2 avg wickets','team2 avg catches','team2 avg fours',\n",
    "                   'team2 avg sixes','team2 odi rank']"
   ]
  },
  {
   "cell_type": "markdown",
   "metadata": {},
   "source": [
    "Predicting for the remaining matches of ICC"
   ]
  },
  {
   "cell_type": "code",
   "execution_count": 5,
   "metadata": {},
   "outputs": [],
   "source": [
    "matches = pd.DataFrame(columns=['season', 'team1', 'team2', 'Venue', 'team1 avg score',\n",
    "       'team1 avg wickets', 'team1 avg catches', 'team1 avg fours',\n",
    "       'team1 avg sixes', 'team1 odi rank', 'team2 avg score',\n",
    "       'team2 avg wickets', 'team2 avg catches', 'team2 avg fours',\n",
    "       'team2 avg sixes', 'team2 odi rank'])"
   ]
  },
  {
   "cell_type": "code",
   "execution_count": 6,
   "metadata": {},
   "outputs": [
    {
     "data": {
      "text/html": [
       "<div>\n",
       "<style scoped>\n",
       "    .dataframe tbody tr th:only-of-type {\n",
       "        vertical-align: middle;\n",
       "    }\n",
       "\n",
       "    .dataframe tbody tr th {\n",
       "        vertical-align: top;\n",
       "    }\n",
       "\n",
       "    .dataframe thead th {\n",
       "        text-align: right;\n",
       "    }\n",
       "</style>\n",
       "<table border=\"1\" class=\"dataframe\">\n",
       "  <thead>\n",
       "    <tr style=\"text-align: right;\">\n",
       "      <th></th>\n",
       "      <th>season</th>\n",
       "      <th>team1</th>\n",
       "      <th>team2</th>\n",
       "      <th>Venue</th>\n",
       "      <th>team1 avg score</th>\n",
       "      <th>team1 avg wickets</th>\n",
       "      <th>team1 avg catches</th>\n",
       "      <th>team1 avg fours</th>\n",
       "      <th>team1 avg sixes</th>\n",
       "      <th>team1 odi rank</th>\n",
       "      <th>team2 avg score</th>\n",
       "      <th>team2 avg wickets</th>\n",
       "      <th>team2 avg catches</th>\n",
       "      <th>team2 avg fours</th>\n",
       "      <th>team2 avg sixes</th>\n",
       "      <th>team2 odi rank</th>\n",
       "    </tr>\n",
       "  </thead>\n",
       "  <tbody>\n",
       "    <tr>\n",
       "      <th>0</th>\n",
       "      <td>2023</td>\n",
       "      <td>India</td>\n",
       "      <td>New Zealand</td>\n",
       "      <td>Wankhede Stadium, Mumbai</td>\n",
       "      <td>25.180872</td>\n",
       "      <td>85.37697</td>\n",
       "      <td>38.8</td>\n",
       "      <td>244.555705</td>\n",
       "      <td>55.894855</td>\n",
       "      <td>1.0</td>\n",
       "      <td>18.430865</td>\n",
       "      <td>72.762424</td>\n",
       "      <td>27.533333</td>\n",
       "      <td>121.666667</td>\n",
       "      <td>25.133333</td>\n",
       "      <td>5.0</td>\n",
       "    </tr>\n",
       "    <tr>\n",
       "      <th>1</th>\n",
       "      <td>2023</td>\n",
       "      <td>South Africa</td>\n",
       "      <td>Australia</td>\n",
       "      <td>Eden Gardens, Kolkata</td>\n",
       "      <td>22.147129</td>\n",
       "      <td>64.220606</td>\n",
       "      <td>20.0</td>\n",
       "      <td>121.0</td>\n",
       "      <td>27.2</td>\n",
       "      <td>3.0</td>\n",
       "      <td>23.453834</td>\n",
       "      <td>59.333333</td>\n",
       "      <td>34.6</td>\n",
       "      <td>191.333333</td>\n",
       "      <td>47.266667</td>\n",
       "      <td>2.0</td>\n",
       "    </tr>\n",
       "    <tr>\n",
       "      <th>2</th>\n",
       "      <td>2023</td>\n",
       "      <td>NaN</td>\n",
       "      <td>NaN</td>\n",
       "      <td>Narendra Modi Stadium, Ahmedabad</td>\n",
       "      <td>NaN</td>\n",
       "      <td>NaN</td>\n",
       "      <td>NaN</td>\n",
       "      <td>NaN</td>\n",
       "      <td>NaN</td>\n",
       "      <td>NaN</td>\n",
       "      <td>NaN</td>\n",
       "      <td>NaN</td>\n",
       "      <td>NaN</td>\n",
       "      <td>NaN</td>\n",
       "      <td>NaN</td>\n",
       "      <td>NaN</td>\n",
       "    </tr>\n",
       "  </tbody>\n",
       "</table>\n",
       "</div>"
      ],
      "text/plain": [
       "  season         team1        team2                             Venue  \\\n",
       "0   2023         India  New Zealand          Wankhede Stadium, Mumbai   \n",
       "1   2023  South Africa    Australia             Eden Gardens, Kolkata   \n",
       "2   2023           NaN          NaN  Narendra Modi Stadium, Ahmedabad   \n",
       "\n",
       "  team1 avg score team1 avg wickets team1 avg catches team1 avg fours  \\\n",
       "0       25.180872          85.37697              38.8      244.555705   \n",
       "1       22.147129         64.220606              20.0           121.0   \n",
       "2             NaN               NaN               NaN             NaN   \n",
       "\n",
       "  team1 avg sixes team1 odi rank team2 avg score team2 avg wickets  \\\n",
       "0       55.894855            1.0       18.430865         72.762424   \n",
       "1            27.2            3.0       23.453834         59.333333   \n",
       "2             NaN            NaN             NaN               NaN   \n",
       "\n",
       "  team2 avg catches team2 avg fours team2 avg sixes team2 odi rank  \n",
       "0         27.533333      121.666667       25.133333            5.0  \n",
       "1              34.6      191.333333       47.266667            2.0  \n",
       "2               NaN             NaN             NaN            NaN  "
      ]
     },
     "execution_count": 6,
     "metadata": {},
     "output_type": "execute_result"
    }
   ],
   "source": [
    "matches.loc[0,['season','team1','team2','Venue']] = ['2023','India','New Zealand','Wankhede Stadium, Mumbai']\n",
    "matches.loc[1,['season','team1','team2','Venue']] = ['2023','South Africa','Australia','Eden Gardens, Kolkata']\n",
    "matches.loc[0,additional_cols1] = getTeamStats(matches.iloc[0]['team1'])\n",
    "matches.loc[0,additional_cols2] = getTeamStats(matches.iloc[0]['team2'])\n",
    "matches.loc[1,additional_cols1] = getTeamStats(matches.iloc[1]['team1'])\n",
    "matches.loc[1,additional_cols2] = getTeamStats(matches.iloc[1]['team2'])\n",
    "# teams in finals is not yet know\n",
    "matches.loc[2,['season','Venue']] = ['2023','Narendra Modi Stadium, Ahmedabad']\n",
    "matches.head()"
   ]
  },
  {
   "cell_type": "code",
   "execution_count": 7,
   "metadata": {},
   "outputs": [],
   "source": [
    "venuesMapping = getVenuesMapping()\n",
    "teamsMapping = getTeamsMapping()\n",
    "matches['Venue'] = matches['Venue'].apply(lambda x:venuesMapping[x])\n",
    "matches.loc[0,'team1'] = teamsMapping[matches.iloc[0]['team1']]\n",
    "matches.loc[0,'team2'] = teamsMapping[matches.loc[0]['team2']]\n",
    "matches.loc[1,'team1'] = teamsMapping[matches.loc[1]['team1']]\n",
    "matches.loc[1,'team2'] = teamsMapping[matches.loc[1]['team2']]"
   ]
  },
  {
   "cell_type": "code",
   "execution_count": 8,
   "metadata": {},
   "outputs": [],
   "source": [
    "nn_model = getMatchWinnerPredictor()"
   ]
  },
  {
   "cell_type": "code",
   "execution_count": 9,
   "metadata": {},
   "outputs": [],
   "source": [
    "# importing the RobustScaler \n",
    "# to normalize using scaler fitted on train data\n",
    "import pickle\n",
    "with open('RobustScaler.pkl','rb') as f:\n",
    "    scaler = pickle.load(f)"
   ]
  },
  {
   "cell_type": "markdown",
   "metadata": {},
   "source": [
    "Semi-Final 1 Prediction"
   ]
  },
  {
   "cell_type": "code",
   "execution_count": 10,
   "metadata": {},
   "outputs": [
    {
     "name": "stdout",
     "output_type": "stream",
     "text": [
      "1/1 [==============================] - 0s 108ms/step\n"
     ]
    },
    {
     "data": {
      "text/plain": [
       "array([[0.6995439, 0.3004561]], dtype=float32)"
      ]
     },
     "execution_count": 10,
     "metadata": {},
     "output_type": "execute_result"
    }
   ],
   "source": [
    "input1 = np.asarray(matches.iloc[0])\n",
    "x1 = scaler.transform(np.expand_dims(input1,axis=0))\n",
    "nn_model.predict(x1)"
   ]
  },
  {
   "cell_type": "markdown",
   "metadata": {},
   "source": [
    "The Model predicted that Team 1(India) wins with probability 0.699 and Team 2(New Zealand) wins with probability 0.3.\n",
    "Thus India is the winner of semi-final 1!!"
   ]
  },
  {
   "cell_type": "markdown",
   "metadata": {},
   "source": [
    "Semi-Final 2 Prediction"
   ]
  },
  {
   "cell_type": "code",
   "execution_count": 11,
   "metadata": {},
   "outputs": [
    {
     "name": "stdout",
     "output_type": "stream",
     "text": [
      "1/1 [==============================] - 0s 27ms/step\n"
     ]
    },
    {
     "data": {
      "text/plain": [
       "array([[0.76192933, 0.23807067]], dtype=float32)"
      ]
     },
     "execution_count": 11,
     "metadata": {},
     "output_type": "execute_result"
    }
   ],
   "source": [
    "input2 = np.asarray(matches.iloc[1])\n",
    "x2 = scaler.transform(np.expand_dims(input2,axis=0))\n",
    "nn_model.predict(x2)"
   ]
  },
  {
   "cell_type": "markdown",
   "metadata": {},
   "source": [
    "The Model predicted that Team 1(South Africa) wins with probability 0.762 and Team 2(Australia) wins with probability 0.238.\n",
    "Thus South Africa is the winner of semi-final 2!!"
   ]
  },
  {
   "cell_type": "markdown",
   "metadata": {},
   "source": [
    "### Team Composition Prediction"
   ]
  },
  {
   "cell_type": "code",
   "execution_count": 12,
   "metadata": {},
   "outputs": [
    {
     "name": "stdout",
     "output_type": "stream",
     "text": [
      "Playing 11 of India : \n",
      "['Shubman Gill' 'Virat Kohli' 'Rohit Sharma' 'KL Rahul' 'Shreyas Iyer'\n",
      " 'Ishan Kishan' 'Mohammed Shami' 'Kuldeep Yadav' 'Jasprit Bumrah'\n",
      " 'Suryakumar Yadav' 'Hardik Pandya']\n",
      "\n",
      "Playing 11 of South Africa\n",
      "['Kagiso Rabada' 'Temba Bavuma (Captain)' 'Quinton de Kock' 'David Miller'\n",
      " 'Aiden Markram' 'Rassie van der Dussen' 'Reeza Hendricks' 'Lungi Ngidi'\n",
      " 'Tabraiz Shamsi' 'Heinrich Klaasen' 'Marco Jansen']\n"
     ]
    }
   ],
   "source": [
    "team1List, team2List = getTeamCompsition(\"India\",\"South Africa\",\"Narendra Modi Stadium, Ahmedabad\")\n",
    "print(\"Playing 11 of India : \")\n",
    "print(team1List)\n",
    "print(\"\\nPlaying 11 of South Africa\")\n",
    "print(team2List)"
   ]
  },
  {
   "cell_type": "markdown",
   "metadata": {},
   "source": [
    "---"
   ]
  },
  {
   "cell_type": "markdown",
   "metadata": {},
   "source": [
    "### <center>Task 3</center>\n",
    "You should predict the winner of the ICC Cricket World Cup 2023."
   ]
  },
  {
   "cell_type": "code",
   "execution_count": 13,
   "metadata": {},
   "outputs": [
    {
     "data": {
      "text/html": [
       "<div>\n",
       "<style scoped>\n",
       "    .dataframe tbody tr th:only-of-type {\n",
       "        vertical-align: middle;\n",
       "    }\n",
       "\n",
       "    .dataframe tbody tr th {\n",
       "        vertical-align: top;\n",
       "    }\n",
       "\n",
       "    .dataframe thead th {\n",
       "        text-align: right;\n",
       "    }\n",
       "</style>\n",
       "<table border=\"1\" class=\"dataframe\">\n",
       "  <thead>\n",
       "    <tr style=\"text-align: right;\">\n",
       "      <th></th>\n",
       "      <th>season</th>\n",
       "      <th>team1</th>\n",
       "      <th>team2</th>\n",
       "      <th>Venue</th>\n",
       "      <th>team1 avg score</th>\n",
       "      <th>team1 avg wickets</th>\n",
       "      <th>team1 avg catches</th>\n",
       "      <th>team1 avg fours</th>\n",
       "      <th>team1 avg sixes</th>\n",
       "      <th>team1 odi rank</th>\n",
       "      <th>team2 avg score</th>\n",
       "      <th>team2 avg wickets</th>\n",
       "      <th>team2 avg catches</th>\n",
       "      <th>team2 avg fours</th>\n",
       "      <th>team2 avg sixes</th>\n",
       "      <th>team2 odi rank</th>\n",
       "    </tr>\n",
       "  </thead>\n",
       "  <tbody>\n",
       "    <tr>\n",
       "      <th>0</th>\n",
       "      <td>2023</td>\n",
       "      <td>5</td>\n",
       "      <td>7</td>\n",
       "      <td>9</td>\n",
       "      <td>25.180872</td>\n",
       "      <td>85.37697</td>\n",
       "      <td>38.8</td>\n",
       "      <td>244.555705</td>\n",
       "      <td>55.894855</td>\n",
       "      <td>1.0</td>\n",
       "      <td>18.430865</td>\n",
       "      <td>72.762424</td>\n",
       "      <td>27.533333</td>\n",
       "      <td>121.666667</td>\n",
       "      <td>25.133333</td>\n",
       "      <td>5.0</td>\n",
       "    </tr>\n",
       "    <tr>\n",
       "      <th>1</th>\n",
       "      <td>2023</td>\n",
       "      <td>9</td>\n",
       "      <td>2</td>\n",
       "      <td>10</td>\n",
       "      <td>22.147129</td>\n",
       "      <td>64.220606</td>\n",
       "      <td>20.0</td>\n",
       "      <td>121.0</td>\n",
       "      <td>27.2</td>\n",
       "      <td>3.0</td>\n",
       "      <td>23.453834</td>\n",
       "      <td>59.333333</td>\n",
       "      <td>34.6</td>\n",
       "      <td>191.333333</td>\n",
       "      <td>47.266667</td>\n",
       "      <td>2.0</td>\n",
       "    </tr>\n",
       "    <tr>\n",
       "      <th>2</th>\n",
       "      <td>2023</td>\n",
       "      <td>5</td>\n",
       "      <td>9</td>\n",
       "      <td>1</td>\n",
       "      <td>25.180872</td>\n",
       "      <td>85.37697</td>\n",
       "      <td>38.8</td>\n",
       "      <td>244.555705</td>\n",
       "      <td>55.894855</td>\n",
       "      <td>1.0</td>\n",
       "      <td>22.147129</td>\n",
       "      <td>64.220606</td>\n",
       "      <td>20.0</td>\n",
       "      <td>121.0</td>\n",
       "      <td>27.2</td>\n",
       "      <td>3.0</td>\n",
       "    </tr>\n",
       "  </tbody>\n",
       "</table>\n",
       "</div>"
      ],
      "text/plain": [
       "  season team1 team2  Venue team1 avg score team1 avg wickets  \\\n",
       "0   2023     5     7      9       25.180872          85.37697   \n",
       "1   2023     9     2     10       22.147129         64.220606   \n",
       "2   2023     5     9      1       25.180872          85.37697   \n",
       "\n",
       "  team1 avg catches team1 avg fours team1 avg sixes team1 odi rank  \\\n",
       "0              38.8      244.555705       55.894855            1.0   \n",
       "1              20.0           121.0            27.2            3.0   \n",
       "2              38.8      244.555705       55.894855            1.0   \n",
       "\n",
       "  team2 avg score team2 avg wickets team2 avg catches team2 avg fours  \\\n",
       "0       18.430865         72.762424         27.533333      121.666667   \n",
       "1       23.453834         59.333333              34.6      191.333333   \n",
       "2       22.147129         64.220606              20.0           121.0   \n",
       "\n",
       "  team2 avg sixes team2 odi rank  \n",
       "0       25.133333            5.0  \n",
       "1       47.266667            2.0  \n",
       "2            27.2            3.0  "
      ]
     },
     "execution_count": 13,
     "metadata": {},
     "output_type": "execute_result"
    }
   ],
   "source": [
    "matches.loc[2,['team1','team2']]=['India','South Africa']\n",
    "matches.loc[2,additional_cols1] = getTeamStats(matches.iloc[2]['team1'])\n",
    "matches.loc[2,additional_cols2] = getTeamStats(matches.iloc[2]['team2'])\n",
    "matches.loc[2,'team1'] = teamsMapping[matches.iloc[2]['team1']]\n",
    "matches.loc[2,'team2'] = teamsMapping[matches.loc[2]['team2']]\n",
    "matches.head()"
   ]
  },
  {
   "cell_type": "code",
   "execution_count": 14,
   "metadata": {},
   "outputs": [
    {
     "name": "stdout",
     "output_type": "stream",
     "text": [
      "1/1 [==============================] - 0s 23ms/step\n"
     ]
    },
    {
     "data": {
      "text/plain": [
       "array([[0.82144415, 0.1785559 ]], dtype=float32)"
      ]
     },
     "execution_count": 14,
     "metadata": {},
     "output_type": "execute_result"
    }
   ],
   "source": [
    "finalInput = np.asarray(matches.iloc[2])\n",
    "x = scaler.transform(np.expand_dims(finalInput,axis=0))\n",
    "nn_model.predict(x)"
   ]
  },
  {
   "cell_type": "markdown",
   "metadata": {},
   "source": [
    "The model predicted 0.82 for Team 1(India) and 0.18 for Team 2(South Africa)"
   ]
  },
  {
   "cell_type": "markdown",
   "metadata": {},
   "source": [
    "The Model predicted the final winner as India with probability 82%"
   ]
  },
  {
   "cell_type": "markdown",
   "metadata": {},
   "source": [
    "---"
   ]
  }
 ],
 "metadata": {
  "kernelspec": {
   "display_name": "Python 3",
   "language": "python",
   "name": "python3"
  },
  "language_info": {
   "codemirror_mode": {
    "name": "ipython",
    "version": 3
   },
   "file_extension": ".py",
   "mimetype": "text/x-python",
   "name": "python",
   "nbconvert_exporter": "python",
   "pygments_lexer": "ipython3",
   "version": "3.7.2"
  }
 },
 "nbformat": 4,
 "nbformat_minor": 2
}
